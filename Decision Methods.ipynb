{
 "cells": [
  {
   "cell_type": "markdown",
   "metadata": {},
   "source": [
    "# Importing libraries"
   ]
  },
  {
   "cell_type": "code",
   "execution_count": 1,
   "metadata": {},
   "outputs": [],
   "source": [
    "import numpy as np\n",
    "import scipy as sp"
   ]
  },
  {
   "cell_type": "markdown",
   "metadata": {},
   "source": [
    "# De-scaling Decision Matrix"
   ]
  },
  {
   "cell_type": "code",
   "execution_count": 2,
   "metadata": {},
   "outputs": [],
   "source": [
    "def de_scale(D:np.ndarray, method:str, type_c):\n",
    "    \"\"\"\n",
    "    D is the data matrix\n",
    "    method is the method to be used for scaling (\"Euclidean\", \"Linear\", \"Fuzzy\")\n",
    "    type_c is the type of criterias.In Euclidean case, it is the value of p \n",
    "    \"\"\"\n",
    "    Res = []\n",
    "    if method == \"Euclidean\":\n",
    "        for j in range(D.shape[1]):\n",
    "            Res.append(D[:,j]/np.linalg.norm(D[:,j], type_c))\n",
    "        Res = np.array(Res).transpose()\n",
    "        return (Res)\n",
    "    elif method == \"Linear\":\n",
    "        for j in range(D.shape[1]):\n",
    "            if type_c[j] == \"+\":\n",
    "                Res.append(D[:,j]/np.max(D[:,j]))\n",
    "            else:\n",
    "                Res.append(np.min(D[:,j])/D[:,j])\n",
    "        Res = np.array(Res).transpose()\n",
    "        return (Res)\n",
    "    elif method==\"Fuzzy\":\n",
    "        for j in range(D.shape[1]):\n",
    "            if type_c[j] == \"+\":\n",
    "                Res.append((D[:,j]-np.min(D[:,j]))/(np.max(D[:,j])-np.min(D[:,j])))\n",
    "            else:\n",
    "                Res.append((np.max(D[:,j])-D[:,j])/(np.max(D[:,j])-np.min(D[:,j])))\n",
    "        Res = np.array(Res).transpose()\n",
    "        return (Res)\n",
    "    else:\n",
    "        print(\"Invalid method\")"
   ]
  },
  {
   "cell_type": "code",
   "execution_count": 36,
   "metadata": {},
   "outputs": [
    {
     "name": "stdout",
     "output_type": "stream",
     "text": [
      "[[0.  1.  0. ]\n",
      " [0.5 0.5 0.5]\n",
      " [1.  0.  1. ]]\n",
      "[[0.12309149 0.20739034 0.26726124]\n",
      " [0.49236596 0.51847585 0.53452248]\n",
      " [0.86164044 0.82956136 0.80178373]]\n"
     ]
    }
   ],
   "source": [
    "print(de_scale(np.array([[1,2,3],[4,5,6],[7,8,9]]), \"Fuzzy\", (\"+\",\"-\",\"+\")))\n",
    "print(de_scale(np.array([[1,2,3],[4,5,6],[7,8,9]]), \"Euclidean\", 2))"
   ]
  },
  {
   "cell_type": "markdown",
   "metadata": {},
   "source": [
    "# Checking whether a matrix is inconsistent or not"
   ]
  },
  {
   "cell_type": "code",
   "execution_count": 4,
   "metadata": {},
   "outputs": [],
   "source": [
    "def is_consistent(D:np.ndarray):\n",
    "    \"\"\"\n",
    "    D is the data matrix\n",
    "    \"\"\"\n",
    "    \n",
    "    return (f\"lambda_max = {np.max(np.linalg.eig(D)[0])},{np.max(np.linalg.eig(D)[0])==D.shape[1]}\")"
   ]
  },
  {
   "cell_type": "code",
   "execution_count": 5,
   "metadata": {},
   "outputs": [
    {
     "data": {
      "text/plain": [
       "'lambda_max = (3.0536215758789735+0j),False'"
      ]
     },
     "execution_count": 5,
     "metadata": {},
     "output_type": "execute_result"
    }
   ],
   "source": [
    "is_consistent(np.array([[1,1/3,1/2],[3,1,3],[2,1/3,1]]))"
   ]
  },
  {
   "cell_type": "markdown",
   "metadata": {},
   "source": [
    "# Approximate methods of finding weights"
   ]
  },
  {
   "cell_type": "code",
   "execution_count": 6,
   "metadata": {},
   "outputs": [],
   "source": [
    "def app_weights(D:np.ndarray, method:str):\n",
    "    \"\"\"\n",
    "    D is the data matrix\n",
    "    method is the method to be used (\"Row\", \"Column\", \"AHP\", \"Geometric\")\n",
    "    \"\"\"\n",
    "    if method == \"Row\":\n",
    "        Res = np.sum(D, axis=1)\n",
    "        Res = Res/np.sum(Res)\n",
    "        Res = Res.reshape(Res.shape[0],1)\n",
    "        return(Res)\n",
    "    elif method == \"Column\":\n",
    "        Res = np.sum(D, axis=0)\n",
    "        Res = 1/Res\n",
    "        Res = Res/np.sum(Res)\n",
    "        Res = Res.reshape(Res.shape[0],1)\n",
    "        return(Res)\n",
    "    elif method == \"AHP\":\n",
    "        new_mat = []\n",
    "        c_sum = np.sum(D, axis=0)\n",
    "        for j in range(D.shape[1]):\n",
    "            new_mat.append(D[:,j]/c_sum[j])\n",
    "        new_mat = np.array(new_mat).transpose()\n",
    "        return(np.mean(new_mat,axis=1).reshape(new_mat.shape[0],1))\n",
    "    elif method == \"Geometric\":\n",
    "        Res = np.prod(D, axis=1)\n",
    "        Res = Res**(1/D.shape[1])\n",
    "        Res = Res/np.sum(Res)\n",
    "        Res = Res.reshape(Res.shape[0],1)\n",
    "        return(Res)\n",
    "    else:\n",
    "        print(\"Invalid method\")"
   ]
  },
  {
   "cell_type": "code",
   "execution_count": 7,
   "metadata": {},
   "outputs": [
    {
     "data": {
      "text/plain": [
       "array([[0.29119249],\n",
       "       [0.05719234],\n",
       "       [0.5542491 ],\n",
       "       [0.09736608]])"
      ]
     },
     "execution_count": 7,
     "metadata": {},
     "output_type": "execute_result"
    }
   ],
   "source": [
    "app_weights(np.array([[1,6,1/3,4],[1/6,1,1/7,1/2],[3,7,1,5],[1/4,2,1/5,1]]), \"Geometric\")"
   ]
  },
  {
   "cell_type": "markdown",
   "metadata": {},
   "source": [
    "# Least Square Method"
   ]
  },
  {
   "cell_type": "code",
   "execution_count": 8,
   "metadata": {},
   "outputs": [],
   "source": [
    "from scipy.optimize import minimize\n",
    "def least_s(D:np.ndarray):\n",
    "    def f(w):\n",
    "        res = 0\n",
    "        for i in range(D.shape[0]):\n",
    "            for j in range(D.shape[1]):\n",
    "                res += (D[i,j]*w[j] - w[i])**2\n",
    "        return res\n",
    "    def cons(w):\n",
    "        res = 0\n",
    "        for i in range(len(w)):\n",
    "            res += w[i]\n",
    "        return res - 1\n",
    "    x0 = np.zeros(D.shape[0])\n",
    "    return minimize(f,x0 , constraints={\"type\":\"eq\", \"fun\":cons})"
   ]
  },
  {
   "cell_type": "code",
   "execution_count": 32,
   "metadata": {},
   "outputs": [
    {
     "data": {
      "text/plain": [
       "     fun: 0.012433263382089669\n",
       "     jac: array([0.02390231, 0.02928199, 0.01863343])\n",
       " message: 'Optimization terminated successfully'\n",
       "    nfev: 26\n",
       "     nit: 6\n",
       "    njev: 6\n",
       "  status: 0\n",
       " success: True\n",
       "       x: array([0.56842712, 0.30409565, 0.12747723])"
      ]
     },
     "execution_count": 32,
     "metadata": {},
     "output_type": "execute_result"
    }
   ],
   "source": [
    "least_s(np.array([[1,2,4],[1/2,1,3],[1/4,1/3,1]]))"
   ]
  },
  {
   "cell_type": "markdown",
   "metadata": {},
   "source": [
    "# Printing Lagrangian Equations"
   ]
  },
  {
   "cell_type": "code",
   "execution_count": 41,
   "metadata": {},
   "outputs": [],
   "source": [
    "def print_lagrangian(D:np.ndarray):\n",
    "    for k in range(D.shape[1]):\n",
    "        print(f\"k = {k+1} \", end=\": \")\n",
    "        for j in range(D.shape[0]):\n",
    "            print(f\"({D[j,k]}* W{k+1} - W{j+1}) *{D[j,k]} - ({D[k,j]}* W{j+1} - W{k+1}) \", end=\" + \")\n",
    "        print(\"lambda = 0\")\n",
    "    for i in range(D.shape[0]-1):\n",
    "        print(f\" W{i+1} +\", end=\"\")\n",
    "    print(f\" W{D.shape[0]} = 1\")"
   ]
  },
  {
   "cell_type": "code",
   "execution_count": 42,
   "metadata": {},
   "outputs": [
    {
     "name": "stdout",
     "output_type": "stream",
     "text": [
      "k = 1 : (1.0* W1 - W1) *1.0 - (1.0* W1 - W1)  + (3.0* W1 - W2) *3.0 - (0.3333333333333333* W2 - W1)  + (0.2* W1 - W3) *0.2 - (5.0* W3 - W1)  + lambda = 0\n",
      "k = 2 : (0.3333333333333333* W2 - W1) *0.3333333333333333 - (3.0* W1 - W2)  + (1.0* W2 - W2) *1.0 - (1.0* W2 - W2)  + (0.14285714285714285* W2 - W3) *0.14285714285714285 - (7.0* W3 - W2)  + lambda = 0\n",
      "k = 3 : (5.0* W3 - W1) *5.0 - (0.2* W1 - W3)  + (7.0* W3 - W2) *7.0 - (0.14285714285714285* W2 - W3)  + (1.0* W3 - W3) *1.0 - (1.0* W3 - W3)  + lambda = 0\n",
      " W1 + W2 + W3 = 1\n"
     ]
    }
   ],
   "source": [
    "print_lagrangian(np.array([[1,1/3,5],[3,1,7],[1/5,1/7,1]]))"
   ]
  },
  {
   "cell_type": "markdown",
   "metadata": {},
   "source": [
    "# Logarithmic Least Squares"
   ]
  },
  {
   "cell_type": "markdown",
   "metadata": {},
   "source": [
    "Couldnt code it :("
   ]
  },
  {
   "cell_type": "markdown",
   "metadata": {},
   "source": [
    "# Eigen Value Method"
   ]
  },
  {
   "cell_type": "code",
   "execution_count": 12,
   "metadata": {},
   "outputs": [],
   "source": [
    "def eigen_method(D:np.ndarray):\n",
    "    \"\"\"\n",
    "    D is the data matrix\n",
    "    \"\"\"\n",
    "    Lam_max = np.real(max(np.linalg.eig(D)[0]))\n",
    "    w_u = sp.linalg.null_space(D - np.eye(D.shape[0])*Lam_max)\n",
    "    w_u = w_u/np.sum(w_u)\n",
    "    print(w_u)"
   ]
  },
  {
   "cell_type": "code",
   "execution_count": 13,
   "metadata": {},
   "outputs": [
    {
     "name": "stdout",
     "output_type": "stream",
     "text": [
      "[[0.27895457]\n",
      " [0.649118  ]\n",
      " [0.07192743]]\n"
     ]
    }
   ],
   "source": [
    "eigen_method(np.array([[1,1/3,5],[3,1,7],[1/5,1/7,1]]))"
   ]
  },
  {
   "cell_type": "markdown",
   "metadata": {},
   "source": [
    "# Sa'ati Method"
   ]
  },
  {
   "cell_type": "code",
   "execution_count": 47,
   "metadata": {},
   "outputs": [],
   "source": [
    "def saati(D:np.ndarray):\n",
    "    \"\"\"\n",
    "    D is the data matrix\n",
    "    \"\"\"\n",
    "    w_init = app_weights(D, \"Row\")\n",
    "    print(f\"D: {D}\")\n",
    "    print(f\"w_init: {w_init}\")\n",
    "    D_new = D\n",
    "    while True:\n",
    "        D_new = np.matmul(D_new,D_new)\n",
    "        print(f\"D_new: {D_new}\")\n",
    "        w_new = app_weights(D_new, \"Row\")\n",
    "        print(f\"w_new: {w_new}\")\n",
    "        if np.linalg.norm(w_new-w_init) < 0.0001:\n",
    "            break\n",
    "        w_init = w_new"
   ]
  },
  {
   "cell_type": "code",
   "execution_count": 48,
   "metadata": {},
   "outputs": [
    {
     "name": "stdout",
     "output_type": "stream",
     "text": [
      "D: [[1.         0.11111111 0.33333333 0.25      ]\n",
      " [9.         1.         3.         2.        ]\n",
      " [3.         0.33333333 1.         0.5       ]\n",
      " [4.         0.5        2.         1.        ]]\n",
      "w_init: [[0.05837321]\n",
      " [0.51674641]\n",
      " [0.16650718]\n",
      " [0.25837321]]\n",
      "D_new: [[ 4.          0.45833333  1.5         0.88888889]\n",
      " [35.          4.         13.          7.75      ]\n",
      " [11.          1.25        4.          2.41666667]\n",
      " [18.5         2.11111111  6.83333333  4.        ]]\n",
      "w_new: [[0.05866952]\n",
      " [0.51196001]\n",
      " [0.15994288]\n",
      " [0.26942759]]\n",
      "D_new: [[ 64.98611111   7.41820988  24.03240741  14.28819444]\n",
      " [566.375       64.65277778 209.45833333 124.52777778]\n",
      " [176.45833333  20.14351852  65.26388889  38.79861111]\n",
      " [297.05555556  33.90972222 109.86111111  65.31944444]]\n",
      "w_new: [[0.05881649]\n",
      " [0.51261024]\n",
      " [0.1597113 ]\n",
      " [0.26886197]]\n",
      "D_new: [[ 16909.78935185   1930.29443426   6253.74385931   3718.02833505]\n",
      " [147376.5623071   16823.40046296  54504.24324846  32404.32055363]\n",
      " [ 45917.82619599   5241.63385738  16981.78009259  10096.15054334]\n",
      " [ 77299.51668596   8823.9317344   28587.6641268   16996.17824074]]\n",
      "w_new: [[0.0588159 ]\n",
      " [0.51260754]\n",
      " [0.15971213]\n",
      " [0.26886443]]\n"
     ]
    }
   ],
   "source": [
    "saati(np.array([[1,1/9,1/3,1/4],[9,1,3,2],[3,1/3,1,1/2],[4,1/2,2,1]]))"
   ]
  },
  {
   "cell_type": "markdown",
   "metadata": {},
   "source": [
    "# Entropy Method"
   ]
  },
  {
   "cell_type": "code",
   "execution_count": 16,
   "metadata": {},
   "outputs": [],
   "source": [
    "def Entropy(D:np.ndarray,lam:np.ndarray):\n",
    "    \"\"\"\n",
    "    D is the data matrix\n",
    "    lam is the weights in our oponion\n",
    "    \"\"\"\n",
    "    P = []\n",
    "    for j in range(D.shape[1]):\n",
    "        P.append(D[:,j]/np.sum(D[:,j]))\n",
    "    P = np.array(P).transpose()\n",
    "    print(f\"P: {P},{P.shape}\")\n",
    "    E = []\n",
    "    for j in range(P.shape[1]):\n",
    "        E.append(\n",
    "        -1 * (1/np.log(P.shape[0])) * np.sum(P[:,j]*np.log(P[:,j]))\n",
    "        )\n",
    "        print(f\"Entropy of criteria {j+1} is {E[j]}\")\n",
    "    D = 1 - np.array(E)\n",
    "    print(f\"D: {D}\")\n",
    "    D = D/np.sum(D)\n",
    "    print(f\"Weight of criteria: {D}\")\n",
    "    new_w = np.multiply(D,lam)/np.sum(np.multiply(D,lam))\n",
    "    print(f\"New weights: {new_w}\")"
   ]
  },
  {
   "cell_type": "code",
   "execution_count": 17,
   "metadata": {},
   "outputs": [
    {
     "name": "stdout",
     "output_type": "stream",
     "text": [
      "P: [[0.2739726  0.22222222 0.3        0.23333333 0.38235294]\n",
      " [0.25684932 0.25925926 0.3        0.3        0.33823529]\n",
      " [0.24657534 0.24074074 0.23333333 0.23333333 0.07352941]\n",
      " [0.22260274 0.27777778 0.16666667 0.23333333 0.20588235]],(4, 5)\n",
      "Entropy of criteria 1 is 0.9979873525070015\n",
      "Entropy of criteria 2 is 0.997521582679676\n",
      "Entropy of criteria 3 is 0.9814490485575648\n",
      "Entropy of criteria 4 is 0.9953823248677508\n",
      "Entropy of criteria 5 is 0.9028051923588244\n",
      "D: [0.00201265 0.00247842 0.01855095 0.00461768 0.09719481]\n",
      "Weight of criteria: [0.01611994 0.01985044 0.14858056 0.03698445 0.7784646 ]\n",
      "New weights: [0.03539252 0.0145277  0.32621957 0.05413473 0.56972547]\n"
     ]
    }
   ],
   "source": [
    "Entropy(np.array([[80,12,9,7,260],[75,14,9,9,230],[72,13,7,7,50],[65,15,5,7,140]]),np.array([0.3,0.1,0.3,0.2,0.1]))"
   ]
  },
  {
   "cell_type": "markdown",
   "metadata": {},
   "source": [
    "# Inconsistancy Assessment Algorithms"
   ]
  },
  {
   "cell_type": "code",
   "execution_count": 30,
   "metadata": {},
   "outputs": [],
   "source": [
    "def IAA(D:np.ndarray):\n",
    "    \"\"\"\n",
    "    D is the data matrix\n",
    "    \"\"\"\n",
    "    w = app_weights(D, \"AHP\")\n",
    "    print(f\"W: {w}\")\n",
    "    w_prime = np.matmul(D,w)\n",
    "    print(f\"W': {w_prime}\")\n",
    "    lambda_max = np.divide(w_prime, w)\n",
    "    print(f\"lambda_max: {lambda_max}\")\n",
    "    lambda_max = np.mean(lambda_max)\n",
    "    print(f\"lambda_max_avg: {lambda_max}\")\n",
    "    CI = (lambda_max - D.shape[0])/(D.shape[0]-1)\n",
    "    print(f\"CI: {CI}\")\n",
    "    RI = [0,0,0.58,0.9,1.12,1.24,1.32,1.41,1.45,1.49]\n",
    "    CR = CI/RI[D.shape[0]-1]\n",
    "    print(f\"CR: {CR}\")\n",
    "    if CR < 0.1:\n",
    "        print(\"Consistency is good\")"
   ]
  },
  {
   "cell_type": "code",
   "execution_count": 33,
   "metadata": {},
   "outputs": [
    {
     "name": "stdout",
     "output_type": "stream",
     "text": [
      "W: [[0.10332847]\n",
      " [0.17413661]\n",
      " [0.72253492]]\n",
      "W': [[0.31081926]\n",
      " [0.52530054]\n",
      " [2.2131888 ]]\n",
      "lambda_max: [[3.00806994]\n",
      " [3.01660016]\n",
      " [3.06308906]]\n",
      "lambda_max_avg: 3.0292530515599956\n",
      "CI: 0.01462652577999779\n",
      "CR: 0.025218147896547916\n",
      "Consistency is good\n"
     ]
    }
   ],
   "source": [
    "IAA(np.array([[1,1/2,1/6],[2,1,1/5],[6,5,1]]))"
   ]
  }
 ],
 "metadata": {
  "kernelspec": {
   "display_name": "Python 3.8.11 ('base')",
   "language": "python",
   "name": "python3"
  },
  "language_info": {
   "codemirror_mode": {
    "name": "ipython",
    "version": 3
   },
   "file_extension": ".py",
   "mimetype": "text/x-python",
   "name": "python",
   "nbconvert_exporter": "python",
   "pygments_lexer": "ipython3",
   "version": "3.8.15"
  },
  "orig_nbformat": 4,
  "vscode": {
   "interpreter": {
    "hash": "b09ec625f77bf4fd762565a912b97636504ad6ec901eb2d0f4cf5a7de23e1ee5"
   }
  }
 },
 "nbformat": 4,
 "nbformat_minor": 2
}
